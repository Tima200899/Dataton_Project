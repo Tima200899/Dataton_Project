{
 "cells": [
  {
   "cell_type": "code",
   "execution_count": null,
   "metadata": {},
   "outputs": [],
   "source": [
    "import pandas as pd\n",
    "import numpy as np\n",
    "import matplotlib.pyplot as plt "
   ]
  },
  {
   "cell_type": "code",
   "execution_count": null,
   "metadata": {},
   "outputs": [],
   "source": [
    "ud = pd.read_csv('userdata.csv')\n",
    "od = pd.read_csv('orderdata.csv')\n",
    "id = pd.read_csv('interactiondata.csv')"
   ]
  },
  {
   "cell_type": "code",
   "execution_count": null,
   "metadata": {},
   "outputs": [],
   "source": [
    "od = od.rename(columns={'userId': 'userid'})\n",
    "id = id.rename(columns={'UserId': 'userid'})\n",
    "\n",
    "od['avg_bill'] = od['avg_bill'].dropna()\n",
    "#od = od[od['category']!='alcohol']\n",
    "od = od[od['avg_bill']>0]\n",
    "\n",
    "#id = id[(id['catalogue_purchases_count_avg']>=0) & (id['website_purchases_count_avg']>=0) & (id['mobile_purchases_count_avg']>=0) & (id['mobile_visit_count_avg']>=0)]\n",
    "\n",
    "id['last_order_dt'] = pd.to_datetime(id['last_order_dt'])\n",
    "ud['join_datetime'] = pd.to_datetime(ud['join_datetime'])\n",
    "\n",
    "id['last_order_dt'] = id['last_order_dt'].fillna(pd.Timestamp(\"20240619\"))\n",
    "ud['education'] = ud['education'].fillna('basic')\n",
    "\n",
    "id[['catalogue_purchases_count_avg', \n",
    "                 'website_purchases_count_avg', \n",
    "                 'mobile_purchases_count_avg', \n",
    "                 'mobile_visit_count_avg']] = id[['catalogue_purchases_count_avg', \n",
    "                                                                'website_purchases_count_avg', \n",
    "                                                                'mobile_purchases_count_avg', \n",
    "                                                                'mobile_visit_count_avg']].clip(lower=0)"
   ]
  },
  {
   "cell_type": "code",
   "execution_count": null,
   "metadata": {},
   "outputs": [],
   "source": [
    "orderdata_agg = od.pivot_table(index='userid', \n",
    "                                      columns='category', \n",
    "                                      values='avg_bill', \n",
    "                                      aggfunc='mean').reset_index().fillna(0)\n",
    "\n",
    "orderdata_agg.columns = ['userid'] + [f'avg_bill_{col}' for col in orderdata_agg.columns[1:]]\n",
    "\n",
    "mdf = ud.merge(id, on='userid', how='left')\n",
    "mdf = mdf.merge(orderdata_agg, on='userid', how='left')"
   ]
  },
  {
   "cell_type": "code",
   "execution_count": null,
   "metadata": {},
   "outputs": [],
   "source": [
    "mdf['purchases'] = mdf['discount_purchases_count_avg'] + mdf['catalogue_purchases_count_avg'] + mdf['store_purchases_count_avg'] + mdf['website_purchases_count_avg'] + mdf['mobile_purchases_count_avg']"
   ]
  },
  {
   "cell_type": "code",
   "execution_count": null,
   "metadata": {},
   "outputs": [],
   "source": [
    "mdf['visits'] = mdf['website_visit_count_avg'] + mdf['mobile_visit_count_avg']"
   ]
  },
  {
   "cell_type": "code",
   "execution_count": null,
   "metadata": {},
   "outputs": [],
   "source": [
    "mdf.columns[7]"
   ]
  },
  {
   "cell_type": "code",
   "execution_count": null,
   "metadata": {},
   "outputs": [],
   "source": [
    "mdf['avg_bill_month'] = mdf['avg_bill_alcohol'] + mdf['avg_bill_fish'] + mdf['avg_bill_fruits'] + mdf['avg_bill_meat'] + mdf['avg_bill_other'] + mdf['avg_bill_sweets'] + mdf['avg_bill_vegetables']"
   ]
  },
  {
   "cell_type": "code",
   "execution_count": null,
   "metadata": {},
   "outputs": [],
   "source": [
    "mdf['client_dur'] = mdf['last_order_dt'] - mdf['join_datetime']"
   ]
  },
  {
   "cell_type": "code",
   "execution_count": null,
   "metadata": {},
   "outputs": [],
   "source": [
    "mdf['client_dur']"
   ]
  },
  {
   "cell_type": "code",
   "execution_count": null,
   "metadata": {},
   "outputs": [],
   "source": [
    "mdf.drop(columns=['userid', 'marital', 'education'])"
   ]
  },
  {
   "cell_type": "code",
   "execution_count": null,
   "metadata": {},
   "outputs": [],
   "source": [
    "plt.hist(mdf['avg_bill_month'], bins = 30)"
   ]
  },
  {
   "cell_type": "code",
   "execution_count": null,
   "metadata": {},
   "outputs": [],
   "source": [
    "import plotly.express as px\n",
    "#df = px.data.iris()\n",
    "fig = px.scatter_3d(mdf, x='income', y='age', z='avg_bill_month',\n",
    "              color='client_dur')\n",
    "fig.show()"
   ]
  },
  {
   "cell_type": "code",
   "execution_count": null,
   "metadata": {},
   "outputs": [],
   "source": [
    "mdf[mdf['age']<16]['education'].value_counts()"
   ]
  },
  {
   "cell_type": "code",
   "execution_count": null,
   "metadata": {},
   "outputs": [],
   "source": [
    "plt.hist(mdf[mdf['age']<12]['avg_bill_month'], bins=30)"
   ]
  },
  {
   "cell_type": "code",
   "execution_count": null,
   "metadata": {},
   "outputs": [],
   "source": [
    "mdf[mdf['age']==14]['income'].describe()"
   ]
  },
  {
   "cell_type": "code",
   "execution_count": null,
   "metadata": {},
   "outputs": [],
   "source": [
    "plt.plot(mdf['income'], mdf['avg_bill_month'], 'ro')"
   ]
  },
  {
   "cell_type": "code",
   "execution_count": null,
   "metadata": {},
   "outputs": [],
   "source": [
    "plt.matshow(mdf.drop(columns=['userid', 'marital', 'education']).corr())\n",
    "plt.figure(figsize=(30,30), dpi=100)"
   ]
  },
  {
   "cell_type": "code",
   "execution_count": null,
   "metadata": {},
   "outputs": [],
   "source": [
    "# Find who gives more money"
   ]
  }
 ],
 "metadata": {
  "kernelspec": {
   "display_name": "Python 3",
   "language": "python",
   "name": "python3"
  },
  "language_info": {
   "codemirror_mode": {
    "name": "ipython",
    "version": 3
   },
   "file_extension": ".py",
   "mimetype": "text/x-python",
   "name": "python",
   "nbconvert_exporter": "python",
   "pygments_lexer": "ipython3",
   "version": "3.12.4"
  }
 },
 "nbformat": 4,
 "nbformat_minor": 2
}
