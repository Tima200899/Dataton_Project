{
 "cells": [
  {
   "cell_type": "code",
   "execution_count": 23,
   "metadata": {},
   "outputs": [],
   "source": [
    "import pandas as pd\n",
    "import numpy as np\n",
    "import matplotlib.pyplot as plt "
   ]
  },
  {
   "cell_type": "code",
   "execution_count": 6,
   "metadata": {},
   "outputs": [],
   "source": [
    "ud = pd.read_csv('userdata.csv')"
   ]
  },
  {
   "cell_type": "code",
   "execution_count": 7,
   "metadata": {},
   "outputs": [
    {
     "data": {
      "text/html": [
       "<div>\n",
       "<style scoped>\n",
       "    .dataframe tbody tr th:only-of-type {\n",
       "        vertical-align: middle;\n",
       "    }\n",
       "\n",
       "    .dataframe tbody tr th {\n",
       "        vertical-align: top;\n",
       "    }\n",
       "\n",
       "    .dataframe thead th {\n",
       "        text-align: right;\n",
       "    }\n",
       "</style>\n",
       "<table border=\"1\" class=\"dataframe\">\n",
       "  <thead>\n",
       "    <tr style=\"text-align: right;\">\n",
       "      <th></th>\n",
       "      <th>userid</th>\n",
       "      <th>join_datetime</th>\n",
       "      <th>age</th>\n",
       "      <th>income</th>\n",
       "      <th>kids</th>\n",
       "      <th>teenagers</th>\n",
       "      <th>marital</th>\n",
       "      <th>education</th>\n",
       "    </tr>\n",
       "  </thead>\n",
       "  <tbody>\n",
       "    <tr>\n",
       "      <th>0</th>\n",
       "      <td>dc9d5bd4-ec88-4546-b46c-fe9d6eaba691</td>\n",
       "      <td>2023-09-11 21:09:07</td>\n",
       "      <td>70</td>\n",
       "      <td>115443.0</td>\n",
       "      <td>0</td>\n",
       "      <td>0</td>\n",
       "      <td>divorced</td>\n",
       "      <td>bachelor</td>\n",
       "    </tr>\n",
       "    <tr>\n",
       "      <th>1</th>\n",
       "      <td>35821e5c-cc2a-425c-a270-5377de69177c</td>\n",
       "      <td>2023-12-25 14:09:54</td>\n",
       "      <td>71</td>\n",
       "      <td>107793.0</td>\n",
       "      <td>0</td>\n",
       "      <td>1</td>\n",
       "      <td>married</td>\n",
       "      <td>masters</td>\n",
       "    </tr>\n",
       "    <tr>\n",
       "      <th>2</th>\n",
       "      <td>d4810416-7e2a-4d1b-8440-30f39cd42aca</td>\n",
       "      <td>2022-11-14 12:31:05</td>\n",
       "      <td>13</td>\n",
       "      <td>25508.0</td>\n",
       "      <td>0</td>\n",
       "      <td>0</td>\n",
       "      <td>single</td>\n",
       "      <td>NaN</td>\n",
       "    </tr>\n",
       "    <tr>\n",
       "      <th>3</th>\n",
       "      <td>b56b1df3-8a67-4d61-82cf-dd9ed659bd63</td>\n",
       "      <td>2023-12-07 01:57:02</td>\n",
       "      <td>20</td>\n",
       "      <td>81139.0</td>\n",
       "      <td>0</td>\n",
       "      <td>0</td>\n",
       "      <td>single</td>\n",
       "      <td>bachelor</td>\n",
       "    </tr>\n",
       "    <tr>\n",
       "      <th>4</th>\n",
       "      <td>06583f0c-f0b2-4f50-add5-5f16238b33bb</td>\n",
       "      <td>2022-08-22 00:24:55</td>\n",
       "      <td>16</td>\n",
       "      <td>26121.0</td>\n",
       "      <td>0</td>\n",
       "      <td>0</td>\n",
       "      <td>single</td>\n",
       "      <td>masters</td>\n",
       "    </tr>\n",
       "  </tbody>\n",
       "</table>\n",
       "</div>"
      ],
      "text/plain": [
       "                                 userid        join_datetime  age    income  \\\n",
       "0  dc9d5bd4-ec88-4546-b46c-fe9d6eaba691  2023-09-11 21:09:07   70  115443.0   \n",
       "1  35821e5c-cc2a-425c-a270-5377de69177c  2023-12-25 14:09:54   71  107793.0   \n",
       "2  d4810416-7e2a-4d1b-8440-30f39cd42aca  2022-11-14 12:31:05   13   25508.0   \n",
       "3  b56b1df3-8a67-4d61-82cf-dd9ed659bd63  2023-12-07 01:57:02   20   81139.0   \n",
       "4  06583f0c-f0b2-4f50-add5-5f16238b33bb  2022-08-22 00:24:55   16   26121.0   \n",
       "\n",
       "   kids  teenagers   marital education  \n",
       "0     0          0  divorced  bachelor  \n",
       "1     0          1   married   masters  \n",
       "2     0          0    single       NaN  \n",
       "3     0          0    single  bachelor  \n",
       "4     0          0    single   masters  "
      ]
     },
     "execution_count": 7,
     "metadata": {},
     "output_type": "execute_result"
    }
   ],
   "source": [
    "ud.head()"
   ]
  },
  {
   "cell_type": "code",
   "execution_count": 28,
   "metadata": {},
   "outputs": [],
   "source": [
    "PPL_LEN = ud['userid'].unique().__len__()"
   ]
  },
  {
   "cell_type": "code",
   "execution_count": 10,
   "metadata": {},
   "outputs": [],
   "source": [
    "od = pd.read_csv('orderdata.csv')"
   ]
  },
  {
   "cell_type": "code",
   "execution_count": 15,
   "metadata": {},
   "outputs": [
    {
     "data": {
      "text/html": [
       "<div>\n",
       "<style scoped>\n",
       "    .dataframe tbody tr th:only-of-type {\n",
       "        vertical-align: middle;\n",
       "    }\n",
       "\n",
       "    .dataframe tbody tr th {\n",
       "        vertical-align: top;\n",
       "    }\n",
       "\n",
       "    .dataframe thead th {\n",
       "        text-align: right;\n",
       "    }\n",
       "</style>\n",
       "<table border=\"1\" class=\"dataframe\">\n",
       "  <thead>\n",
       "    <tr style=\"text-align: right;\">\n",
       "      <th></th>\n",
       "      <th>userId</th>\n",
       "      <th>category</th>\n",
       "      <th>avg_bill</th>\n",
       "    </tr>\n",
       "  </thead>\n",
       "  <tbody>\n",
       "    <tr>\n",
       "      <th>0</th>\n",
       "      <td>2c6336a2-852b-48af-9150-9b9030387f5d</td>\n",
       "      <td>fish</td>\n",
       "      <td>432.0</td>\n",
       "    </tr>\n",
       "    <tr>\n",
       "      <th>1</th>\n",
       "      <td>1085e67c-3c4e-4903-b3e9-16631132c655</td>\n",
       "      <td>other</td>\n",
       "      <td>620.0</td>\n",
       "    </tr>\n",
       "    <tr>\n",
       "      <th>2</th>\n",
       "      <td>99792dfd-8c62-4903-92b2-a83dfd392cb1</td>\n",
       "      <td>sweets</td>\n",
       "      <td>233.0</td>\n",
       "    </tr>\n",
       "    <tr>\n",
       "      <th>3</th>\n",
       "      <td>ad50b3da-da8d-4b35-92c3-79cf83c2250a</td>\n",
       "      <td>fish</td>\n",
       "      <td>594.0</td>\n",
       "    </tr>\n",
       "    <tr>\n",
       "      <th>4</th>\n",
       "      <td>a300c8a3-6280-4a59-8c89-be4212a4eb26</td>\n",
       "      <td>fruits</td>\n",
       "      <td>0.0</td>\n",
       "    </tr>\n",
       "  </tbody>\n",
       "</table>\n",
       "</div>"
      ],
      "text/plain": [
       "                                 userId category  avg_bill\n",
       "0  2c6336a2-852b-48af-9150-9b9030387f5d     fish     432.0\n",
       "1  1085e67c-3c4e-4903-b3e9-16631132c655    other     620.0\n",
       "2  99792dfd-8c62-4903-92b2-a83dfd392cb1   sweets     233.0\n",
       "3  ad50b3da-da8d-4b35-92c3-79cf83c2250a     fish     594.0\n",
       "4  a300c8a3-6280-4a59-8c89-be4212a4eb26   fruits       0.0"
      ]
     },
     "execution_count": 15,
     "metadata": {},
     "output_type": "execute_result"
    }
   ],
   "source": [
    "od.head()"
   ]
  },
  {
   "cell_type": "code",
   "execution_count": 21,
   "metadata": {},
   "outputs": [
    {
     "data": {
      "text/plain": [
       "array(['fish', 'other', 'sweets', 'fruits', 'alcohol', 'meat',\n",
       "       'vegetables'], dtype=object)"
      ]
     },
     "execution_count": 21,
     "metadata": {},
     "output_type": "execute_result"
    }
   ],
   "source": [
    "od['category'].unique()"
   ]
  },
  {
   "cell_type": "code",
   "execution_count": 19,
   "metadata": {},
   "outputs": [],
   "source": [
    "u1 = od['userId'][0]"
   ]
  },
  {
   "cell_type": "code",
   "execution_count": 20,
   "metadata": {},
   "outputs": [
    {
     "data": {
      "text/html": [
       "<div>\n",
       "<style scoped>\n",
       "    .dataframe tbody tr th:only-of-type {\n",
       "        vertical-align: middle;\n",
       "    }\n",
       "\n",
       "    .dataframe tbody tr th {\n",
       "        vertical-align: top;\n",
       "    }\n",
       "\n",
       "    .dataframe thead th {\n",
       "        text-align: right;\n",
       "    }\n",
       "</style>\n",
       "<table border=\"1\" class=\"dataframe\">\n",
       "  <thead>\n",
       "    <tr style=\"text-align: right;\">\n",
       "      <th></th>\n",
       "      <th>userId</th>\n",
       "      <th>category</th>\n",
       "      <th>avg_bill</th>\n",
       "    </tr>\n",
       "  </thead>\n",
       "  <tbody>\n",
       "    <tr>\n",
       "      <th>0</th>\n",
       "      <td>2c6336a2-852b-48af-9150-9b9030387f5d</td>\n",
       "      <td>fish</td>\n",
       "      <td>432.0</td>\n",
       "    </tr>\n",
       "    <tr>\n",
       "      <th>3874</th>\n",
       "      <td>2c6336a2-852b-48af-9150-9b9030387f5d</td>\n",
       "      <td>sweets</td>\n",
       "      <td>55.0</td>\n",
       "    </tr>\n",
       "    <tr>\n",
       "      <th>5655</th>\n",
       "      <td>2c6336a2-852b-48af-9150-9b9030387f5d</td>\n",
       "      <td>vegetables</td>\n",
       "      <td>294.0</td>\n",
       "    </tr>\n",
       "    <tr>\n",
       "      <th>7208</th>\n",
       "      <td>2c6336a2-852b-48af-9150-9b9030387f5d</td>\n",
       "      <td>meat</td>\n",
       "      <td>360.0</td>\n",
       "    </tr>\n",
       "    <tr>\n",
       "      <th>9044</th>\n",
       "      <td>2c6336a2-852b-48af-9150-9b9030387f5d</td>\n",
       "      <td>other</td>\n",
       "      <td>275.0</td>\n",
       "    </tr>\n",
       "    <tr>\n",
       "      <th>16223</th>\n",
       "      <td>2c6336a2-852b-48af-9150-9b9030387f5d</td>\n",
       "      <td>alcohol</td>\n",
       "      <td>773.0</td>\n",
       "    </tr>\n",
       "    <tr>\n",
       "      <th>17229</th>\n",
       "      <td>2c6336a2-852b-48af-9150-9b9030387f5d</td>\n",
       "      <td>fruits</td>\n",
       "      <td>30.0</td>\n",
       "    </tr>\n",
       "  </tbody>\n",
       "</table>\n",
       "</div>"
      ],
      "text/plain": [
       "                                     userId    category  avg_bill\n",
       "0      2c6336a2-852b-48af-9150-9b9030387f5d        fish     432.0\n",
       "3874   2c6336a2-852b-48af-9150-9b9030387f5d      sweets      55.0\n",
       "5655   2c6336a2-852b-48af-9150-9b9030387f5d  vegetables     294.0\n",
       "7208   2c6336a2-852b-48af-9150-9b9030387f5d        meat     360.0\n",
       "9044   2c6336a2-852b-48af-9150-9b9030387f5d       other     275.0\n",
       "16223  2c6336a2-852b-48af-9150-9b9030387f5d     alcohol     773.0\n",
       "17229  2c6336a2-852b-48af-9150-9b9030387f5d      fruits      30.0"
      ]
     },
     "execution_count": 20,
     "metadata": {},
     "output_type": "execute_result"
    }
   ],
   "source": [
    "od[od['userId']==u1]"
   ]
  },
  {
   "cell_type": "code",
   "execution_count": 16,
   "metadata": {},
   "outputs": [],
   "source": [
    "id = pd.read_csv('interactiondata.csv')"
   ]
  },
  {
   "cell_type": "code",
   "execution_count": 17,
   "metadata": {},
   "outputs": [
    {
     "data": {
      "text/html": [
       "<div>\n",
       "<style scoped>\n",
       "    .dataframe tbody tr th:only-of-type {\n",
       "        vertical-align: middle;\n",
       "    }\n",
       "\n",
       "    .dataframe tbody tr th {\n",
       "        vertical-align: top;\n",
       "    }\n",
       "\n",
       "    .dataframe thead th {\n",
       "        text-align: right;\n",
       "    }\n",
       "</style>\n",
       "<table border=\"1\" class=\"dataframe\">\n",
       "  <thead>\n",
       "    <tr style=\"text-align: right;\">\n",
       "      <th></th>\n",
       "      <th>UserId</th>\n",
       "      <th>complain_count</th>\n",
       "      <th>last_order_dt</th>\n",
       "      <th>discount_purchases_count_avg</th>\n",
       "      <th>catalogue_purchases_count_avg</th>\n",
       "      <th>store_purchases_count_avg</th>\n",
       "      <th>website_purchases_count_avg</th>\n",
       "      <th>website_visit_count_avg</th>\n",
       "      <th>mobile_purchases_count_avg</th>\n",
       "      <th>mobile_visit_count_avg</th>\n",
       "      <th>marketing_company_outcome_1</th>\n",
       "      <th>marketing_company_outcome_2</th>\n",
       "      <th>marketing_company_outcome_3</th>\n",
       "      <th>marketing_company_outcome_4</th>\n",
       "      <th>marketing_company_outcome_5</th>\n",
       "    </tr>\n",
       "  </thead>\n",
       "  <tbody>\n",
       "    <tr>\n",
       "      <th>0</th>\n",
       "      <td>fa432faf-93f6-4dbf-ae14-8a8b681a106f</td>\n",
       "      <td>0</td>\n",
       "      <td>2024-06-22</td>\n",
       "      <td>2</td>\n",
       "      <td>0</td>\n",
       "      <td>4</td>\n",
       "      <td>3</td>\n",
       "      <td>7</td>\n",
       "      <td>18</td>\n",
       "      <td>33</td>\n",
       "      <td>0</td>\n",
       "      <td>0</td>\n",
       "      <td>0</td>\n",
       "      <td>0</td>\n",
       "      <td>0</td>\n",
       "    </tr>\n",
       "    <tr>\n",
       "      <th>1</th>\n",
       "      <td>3146a104-ede9-4cbb-8869-b65cf60a35d0</td>\n",
       "      <td>0</td>\n",
       "      <td>2024-05-17</td>\n",
       "      <td>2</td>\n",
       "      <td>0</td>\n",
       "      <td>0</td>\n",
       "      <td>2</td>\n",
       "      <td>5</td>\n",
       "      <td>3</td>\n",
       "      <td>1</td>\n",
       "      <td>1</td>\n",
       "      <td>1</td>\n",
       "      <td>0</td>\n",
       "      <td>1</td>\n",
       "      <td>0</td>\n",
       "    </tr>\n",
       "    <tr>\n",
       "      <th>2</th>\n",
       "      <td>191455cb-b4cc-4ef4-abf6-056349caf299</td>\n",
       "      <td>2</td>\n",
       "      <td>2024-05-27</td>\n",
       "      <td>2</td>\n",
       "      <td>2</td>\n",
       "      <td>8</td>\n",
       "      <td>6</td>\n",
       "      <td>6</td>\n",
       "      <td>1</td>\n",
       "      <td>1</td>\n",
       "      <td>0</td>\n",
       "      <td>0</td>\n",
       "      <td>0</td>\n",
       "      <td>0</td>\n",
       "      <td>0</td>\n",
       "    </tr>\n",
       "    <tr>\n",
       "      <th>3</th>\n",
       "      <td>e0037cb7-8e9a-4adf-b03a-ea8d9bcb67e9</td>\n",
       "      <td>0</td>\n",
       "      <td>2024-06-03</td>\n",
       "      <td>5</td>\n",
       "      <td>0</td>\n",
       "      <td>2</td>\n",
       "      <td>1</td>\n",
       "      <td>0</td>\n",
       "      <td>4</td>\n",
       "      <td>41</td>\n",
       "      <td>0</td>\n",
       "      <td>0</td>\n",
       "      <td>1</td>\n",
       "      <td>1</td>\n",
       "      <td>1</td>\n",
       "    </tr>\n",
       "    <tr>\n",
       "      <th>4</th>\n",
       "      <td>00c8adb8-4694-4137-a352-404bd16cd299</td>\n",
       "      <td>0</td>\n",
       "      <td>2024-07-02</td>\n",
       "      <td>0</td>\n",
       "      <td>0</td>\n",
       "      <td>2</td>\n",
       "      <td>0</td>\n",
       "      <td>4</td>\n",
       "      <td>0</td>\n",
       "      <td>39</td>\n",
       "      <td>1</td>\n",
       "      <td>0</td>\n",
       "      <td>0</td>\n",
       "      <td>1</td>\n",
       "      <td>1</td>\n",
       "    </tr>\n",
       "  </tbody>\n",
       "</table>\n",
       "</div>"
      ],
      "text/plain": [
       "                                 UserId  complain_count last_order_dt  \\\n",
       "0  fa432faf-93f6-4dbf-ae14-8a8b681a106f               0    2024-06-22   \n",
       "1  3146a104-ede9-4cbb-8869-b65cf60a35d0               0    2024-05-17   \n",
       "2  191455cb-b4cc-4ef4-abf6-056349caf299               2    2024-05-27   \n",
       "3  e0037cb7-8e9a-4adf-b03a-ea8d9bcb67e9               0    2024-06-03   \n",
       "4  00c8adb8-4694-4137-a352-404bd16cd299               0    2024-07-02   \n",
       "\n",
       "   discount_purchases_count_avg  catalogue_purchases_count_avg  \\\n",
       "0                             2                              0   \n",
       "1                             2                              0   \n",
       "2                             2                              2   \n",
       "3                             5                              0   \n",
       "4                             0                              0   \n",
       "\n",
       "   store_purchases_count_avg  website_purchases_count_avg  \\\n",
       "0                          4                            3   \n",
       "1                          0                            2   \n",
       "2                          8                            6   \n",
       "3                          2                            1   \n",
       "4                          2                            0   \n",
       "\n",
       "   website_visit_count_avg  mobile_purchases_count_avg  \\\n",
       "0                        7                          18   \n",
       "1                        5                           3   \n",
       "2                        6                           1   \n",
       "3                        0                           4   \n",
       "4                        4                           0   \n",
       "\n",
       "   mobile_visit_count_avg  marketing_company_outcome_1  \\\n",
       "0                      33                            0   \n",
       "1                       1                            1   \n",
       "2                       1                            0   \n",
       "3                      41                            0   \n",
       "4                      39                            1   \n",
       "\n",
       "   marketing_company_outcome_2  marketing_company_outcome_3  \\\n",
       "0                            0                            0   \n",
       "1                            1                            0   \n",
       "2                            0                            0   \n",
       "3                            0                            1   \n",
       "4                            0                            0   \n",
       "\n",
       "   marketing_company_outcome_4  marketing_company_outcome_5  \n",
       "0                            0                            0  \n",
       "1                            1                            0  \n",
       "2                            0                            0  \n",
       "3                            1                            1  \n",
       "4                            1                            1  "
      ]
     },
     "execution_count": 17,
     "metadata": {},
     "output_type": "execute_result"
    }
   ],
   "source": [
    "id.head()"
   ]
  },
  {
   "cell_type": "code",
   "execution_count": 22,
   "metadata": {},
   "outputs": [
    {
     "data": {
      "text/plain": [
       "array([0, 2, 1, 6, 3, 4, 5, 8, 7], dtype=int64)"
      ]
     },
     "execution_count": 22,
     "metadata": {},
     "output_type": "execute_result"
    }
   ],
   "source": [
    "id['complain_count'].unique()"
   ]
  },
  {
   "cell_type": "code",
   "execution_count": 34,
   "metadata": {},
   "outputs": [
    {
     "data": {
      "text/plain": [
       "dtype('O')"
      ]
     },
     "execution_count": 34,
     "metadata": {},
     "output_type": "execute_result"
    }
   ],
   "source": [
    "id['last_order_dt'].dtypes"
   ]
  },
  {
   "cell_type": "code",
   "execution_count": 48,
   "metadata": {},
   "outputs": [
    {
     "data": {
      "image/png": "[encoded data removed]",
      "text/plain": [
       "<Figure size 640x480 with 1 Axes>"
      ]
     },
     "metadata": {},
     "output_type": "display_data"
    }
   ],
   "source": [
    "plt.hist(id['complain_count'])\n",
    "plt.yscale('log')"
   ]
  },
  {
   "cell_type": "code",
   "execution_count": 46,
   "metadata": {},
   "outputs": [
    {
     "data": {
      "text/plain": [
       "<BarContainer object of 3405 artists>"
      ]
     },
     "execution_count": 46,
     "metadata": {},
     "output_type": "execute_result"
    },
    {
     "data": {
      "image/png": "[encoded data removed]",
      "text/plain": [
       "<Figure size 640x480 with 1 Axes>"
      ]
     },
     "metadata": {},
     "output_type": "display_data"
    }
   ],
   "source": [
    "plt.bar(id['complain_count'], range(len(id['complain_count'])))"
   ]
  },
  {
   "cell_type": "code",
   "execution_count": 47,
   "metadata": {},
   "outputs": [
    {
     "data": {
      "text/plain": [
       "4"
      ]
     },
     "execution_count": 47,
     "metadata": {},
     "output_type": "execute_result"
    }
   ],
   "source": [
    "id[id['complain_count']==8].__len__()"
   ]
  },
  {
   "cell_type": "code",
   "execution_count": 49,
   "metadata": {},
   "outputs": [
    {
     "name": "stdout",
     "output_type": "stream",
     "text": [
      "                                 userid        join_datetime  age    income  \\\n",
      "0  dc9d5bd4-ec88-4546-b46c-fe9d6eaba691  2023-09-11 21:09:07   70  115443.0   \n",
      "1  35821e5c-cc2a-425c-a270-5377de69177c  2023-12-25 14:09:54   71  107793.0   \n",
      "2  d4810416-7e2a-4d1b-8440-30f39cd42aca  2022-11-14 12:31:05   13   25508.0   \n",
      "3  b56b1df3-8a67-4d61-82cf-dd9ed659bd63  2023-12-07 01:57:02   20   81139.0   \n",
      "4  06583f0c-f0b2-4f50-add5-5f16238b33bb  2022-08-22 00:24:55   16   26121.0   \n",
      "\n",
      "   kids  teenagers   marital education  \n",
      "0     0          0  divorced  bachelor  \n",
      "1     0          1   married   masters  \n",
      "2     0          0    single       NaN  \n",
      "3     0          0    single  bachelor  \n",
      "4     0          0    single   masters  \n",
      "                                 userId category  avg_bill\n",
      "0  2c6336a2-852b-48af-9150-9b9030387f5d     fish     432.0\n",
      "1  1085e67c-3c4e-4903-b3e9-16631132c655    other     620.0\n",
      "2  99792dfd-8c62-4903-92b2-a83dfd392cb1   sweets     233.0\n",
      "3  ad50b3da-da8d-4b35-92c3-79cf83c2250a     fish     594.0\n",
      "4  a300c8a3-6280-4a59-8c89-be4212a4eb26   fruits       0.0\n",
      "                                 UserId  complain_count last_order_dt  \\\n",
      "0  fa432faf-93f6-4dbf-ae14-8a8b681a106f               0    2024-06-22   \n",
      "1  3146a104-ede9-4cbb-8869-b65cf60a35d0               0    2024-05-17   \n",
      "2  191455cb-b4cc-4ef4-abf6-056349caf299               2    2024-05-27   \n",
      "3  e0037cb7-8e9a-4adf-b03a-ea8d9bcb67e9               0    2024-06-03   \n",
      "4  00c8adb8-4694-4137-a352-404bd16cd299               0    2024-07-02   \n",
      "\n",
      "   discount_purchases_count_avg  catalogue_purchases_count_avg  \\\n",
      "0                             2                              0   \n",
      "1                             2                              0   \n",
      "2                             2                              2   \n",
      "3                             5                              0   \n",
      "4                             0                              0   \n",
      "\n",
      "   store_purchases_count_avg  website_purchases_count_avg  \\\n",
      "0                          4                            3   \n",
      "1                          0                            2   \n",
      "2                          8                            6   \n",
      "3                          2                            1   \n",
      "4                          2                            0   \n",
      "\n",
      "   website_visit_count_avg  mobile_purchases_count_avg  \\\n",
      "0                        7                          18   \n",
      "1                        5                           3   \n",
      "2                        6                           1   \n",
      "3                        0                           4   \n",
      "4                        4                           0   \n",
      "\n",
      "   mobile_visit_count_avg  marketing_company_outcome_1  \\\n",
      "0                      33                            0   \n",
      "1                       1                            1   \n",
      "2                       1                            0   \n",
      "3                      41                            0   \n",
      "4                      39                            1   \n",
      "\n",
      "   marketing_company_outcome_2  marketing_company_outcome_3  \\\n",
      "0                            0                            0   \n",
      "1                            1                            0   \n",
      "2                            0                            0   \n",
      "3                            0                            1   \n",
      "4                            0                            0   \n",
      "\n",
      "   marketing_company_outcome_4  marketing_company_outcome_5  \n",
      "0                            0                            0  \n",
      "1                            1                            0  \n",
      "2                            0                            0  \n",
      "3                            1                            1  \n",
      "4                            1                            1  \n"
     ]
    }
   ],
   "source": [
    "\n",
    "import pandas as pd\n",
    "\n",
    "userdata = ud.copy()\n",
    "orderdata = od.copy()\n",
    "interactiondata = id.copy()\n"
   ]
  },
  {
   "cell_type": "code",
   "execution_count": null,
   "metadata": {},
   "outputs": [],
   "source": []
  }
 ],
 "metadata": {
  "kernelspec": {
   "display_name": "Python 3",
   "language": "python",
   "name": "python3"
  },
  "language_info": {
   "codemirror_mode": {
    "name": "ipython",
    "version": 3
   },
   "file_extension": ".py",
   "mimetype": "text/x-python",
   "name": "python",
   "nbconvert_exporter": "python",
   "pygments_lexer": "ipython3",
   "version": "3.12.4"
  }
 },
 "nbformat": 4,
 "nbformat_minor": 2
}
